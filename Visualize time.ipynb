{
 "cells": [
  {
   "cell_type": "code",
   "execution_count": 1,
   "metadata": {
    "collapsed": false
   },
   "outputs": [
    {
     "data": {
      "text/plain": [
       "array(['x', 'y', 'accuracy', 'time', 'place_id'], dtype=object)"
      ]
     },
     "execution_count": 1,
     "metadata": {},
     "output_type": "execute_result"
    }
   ],
   "source": [
    "import pandas as pd\n",
    "import numpy as np\n",
    "import matplotlib.pyplot as plt\n",
    "import datetime\n",
    "\n",
    "__author__ = 'MrBeer'\n",
    "\n",
    "\"\"\"\n",
    "Import data\n",
    "\"\"\"\n",
    "train = pd.DataFrame.from_csv('train.csv')\n",
    "train.columns.values\n",
    "\n",
    "# ['x', 'y', 'accuracy', 'time', 'place_id']"
   ]
  },
  {
   "cell_type": "code",
   "execution_count": 2,
   "metadata": {
    "collapsed": true
   },
   "outputs": [],
   "source": [
    "places_id_02 = train['place_id'].values\n",
    "place0 = train.iloc[(train['place_id'] == places_id_02[0]).values]\n",
    "place1 = train.iloc[(train['place_id'] == places_id_02[1]).values]\n",
    "place2 = train.iloc[(train['place_id'] == places_id_02[2]).values]"
   ]
  },
  {
   "cell_type": "code",
   "execution_count": 3,
   "metadata": {
    "collapsed": true
   },
   "outputs": [],
   "source": [
    "# Histogram over total time\n",
    "plt.hist([place0['time'].values, place1['time'].values, place2['time'].values])\n",
    "plt.show()"
   ]
  },
  {
   "cell_type": "code",
   "execution_count": 7,
   "metadata": {
    "collapsed": true
   },
   "outputs": [],
   "source": [
    "# Daily Histogram\n",
    "plt.hist([place0['time'].values % (60 * 24) / 60, place1['time'].values % (60 * 24) / 60, \n",
    "          place2['time'].values % (60 * 24) / 60])\n",
    "plt.show()"
   ]
  },
  {
   "cell_type": "code",
   "execution_count": 8,
   "metadata": {
    "collapsed": true
   },
   "outputs": [],
   "source": [
    "# Weekly Histogram\n",
    "plt.hist([place0['time'].values % (60 * 24 * 7) / (60 * 24), place1['time'].values % (60 * 24 * 7) / (60 * 24), \n",
    "          place2['time'].values % (60 * 24 * 7) / (60 * 24)])\n",
    "plt.show()"
   ]
  },
  {
   "cell_type": "code",
   "execution_count": null,
   "metadata": {
    "collapsed": true
   },
   "outputs": [],
   "source": [
    ""
   ]
  }
 ],
 "metadata": {
  "kernelspec": {
   "display_name": "Python 3",
   "language": "python",
   "name": "python3"
  },
  "language_info": {
   "codemirror_mode": {
    "name": "ipython",
    "version": 3.0
   },
   "file_extension": ".py",
   "mimetype": "text/x-python",
   "name": "python",
   "nbconvert_exporter": "python",
   "pygments_lexer": "ipython3",
   "version": "3.4.3"
  }
 },
 "nbformat": 4,
 "nbformat_minor": 0
}